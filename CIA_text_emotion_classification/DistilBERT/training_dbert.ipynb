{
 "cells": [
  {
   "cell_type": "code",
   "execution_count": 44,
   "metadata": {},
   "outputs": [],
   "source": [
    "# First of all, imports\n",
    "from transformers import TFDistilBertForSequenceClassification, DistilBertTokenizer, DataCollatorWithPadding, DistilBertConfig, create_optimizer\n",
    "from datasets import Dataset\n",
    "import pandas as pd\n",
    "import numpy as np\n",
    "import tensorflow as tf\n",
    "from tensorflow.keras.utils import to_categorical\n",
    "from sklearn.metrics import accuracy_score, precision_score, recall_score, f1_score, classification_report\n",
    "from tensorflow.keras.metrics import AUC\n",
    "from sklearn.preprocessing import LabelEncoder\n",
    "from sklearn.model_selection import train_test_split\n",
    "from tensorflow.keras.optimizers import Adam\n",
    "from sklearn.utils.class_weight import compute_class_weight"
   ]
  },
  {
   "cell_type": "code",
   "execution_count": null,
   "metadata": {},
   "outputs": [
    {
     "name": "stderr",
     "output_type": "stream",
     "text": [
      "Some weights of the PyTorch model were not used when initializing the TF 2.0 model TFDistilBertForSequenceClassification: ['vocab_layer_norm.bias', 'vocab_projector.bias', 'vocab_transform.weight', 'vocab_transform.bias', 'vocab_layer_norm.weight']\n",
      "- This IS expected if you are initializing TFDistilBertForSequenceClassification from a PyTorch model trained on another task or with another architecture (e.g. initializing a TFBertForSequenceClassification model from a BertForPreTraining model).\n",
      "- This IS NOT expected if you are initializing TFDistilBertForSequenceClassification from a PyTorch model that you expect to be exactly identical (e.g. initializing a TFBertForSequenceClassification model from a BertForSequenceClassification model).\n",
      "Some weights or buffers of the TF 2.0 model TFDistilBertForSequenceClassification were not initialized from the PyTorch model and are newly initialized: ['pre_classifier.weight', 'pre_classifier.bias', 'classifier.weight', 'classifier.bias']\n",
      "You should probably TRAIN this model on a down-stream task to be able to use it for predictions and inference.\n"
     ]
    }
   ],
   "source": [
    "# Setting up the model and tokenizer\n",
    "config = DistilBertConfig.from_pretrained('distilbert-base-uncased', num_labels=7)\n",
    "\n",
    "model = TFDistilBertForSequenceClassification.from_pretrained('distilbert-base-uncased', config=config)\n",
    "tokenizer = DistilBertTokenizer.from_pretrained('distilbert-base-uncased')"
   ]
  },
  {
   "cell_type": "code",
   "execution_count": null,
   "metadata": {},
   "outputs": [
    {
     "data": {
      "text/plain": [
       "Index(['Translation', 'Corrected_Emotion', 'POS_Tags', 'TF_IDF',\n",
       "       'Sentiment_Score', 'Pretrained_Embeddings', 'Custom_Embeddings',\n",
       "       'Cleaned_Text'],\n",
       "      dtype='object')"
      ]
     },
     "execution_count": 46,
     "metadata": {},
     "output_type": "execute_result"
    }
   ],
   "source": [
    "# Starting the data processing before training\n",
    "raw_df = pd.read_csv('../datasets/dataset_v1_GoodOne.csv', engine='python')\n",
    "\n",
    "# Renaming the columns in order to work on other versions of the dataset\n",
    "raw_df = raw_df.rename(columns={'text': 'Translation', 'dominant_emotion': 'Corrected_Emotion'})\n",
    "raw_df.columns"
   ]
  },
  {
   "cell_type": "code",
   "execution_count": null,
   "metadata": {},
   "outputs": [
    {
     "name": "stderr",
     "output_type": "stream",
     "text": [
      "/tmp/ipykernel_709000/2155298238.py:5: SettingWithCopyWarning: \n",
      "A value is trying to be set on a copy of a slice from a DataFrame.\n",
      "Try using .loc[row_indexer,col_indexer] = value instead\n",
      "\n",
      "See the caveats in the documentation: https://pandas.pydata.org/pandas-docs/stable/user_guide/indexing.html#returning-a-view-versus-a-copy\n",
      "  df[\"Encoded_Emotion\"] = label_encoder.transform(df[\"Corrected_Emotion\"])\n"
     ]
    },
    {
     "data": {
      "application/vnd.jupyter.widget-view+json": {
       "model_id": "68c3a936ddc84638955a956262a5a621",
       "version_major": 2,
       "version_minor": 0
      },
      "text/plain": [
       "Map:   0%|          | 0/202118 [00:00<?, ? examples/s]"
      ]
     },
     "metadata": {},
     "output_type": "display_data"
    },
    {
     "data": {
      "application/vnd.jupyter.widget-view+json": {
       "model_id": "10667c821e374a77b9158191aa298ae3",
       "version_major": 2,
       "version_minor": 0
      },
      "text/plain": [
       "Map:   0%|          | 0/50530 [00:00<?, ? examples/s]"
      ]
     },
     "metadata": {},
     "output_type": "display_data"
    }
   ],
   "source": [
    "# Selecting the columns we need for training\n",
    "df = raw_df[['Translation', 'Corrected_Emotion']]\n",
    "\n",
    "# Encoding the labels\n",
    "label_encoder = LabelEncoder()\n",
    "label_encoder.fit(df[\"Corrected_Emotion\"])\n",
    "df[\"Encoded_Emotion\"] = label_encoder.transform(df[\"Corrected_Emotion\"])\n",
    "\n",
    "# I am performing custom class weights for a better performance during training\n",
    "# The class weights are calculated based on the frequency of each class in the training set\n",
    "class_weights = compute_class_weight(\n",
    "    class_weight='balanced',\n",
    "    classes=np.unique(df[\"Encoded_Emotion\"]),  # Using encoded labels (numerical values)\n",
    "    y=df[\"Encoded_Emotion\"]  # Encode the 'Corrected_Emotion' column\n",
    ")\n",
    "\n",
    "class_weights = dict(enumerate(class_weights))\n",
    "\n",
    "# Dropping the unencoded column because we don't need it anymore\n",
    "df = df.drop([\"Corrected_Emotion\"], axis=1)\n",
    "\n",
    "# 80% training, 20% validation split\n",
    "train_df, val_df = train_test_split(df, test_size=0.2, random_state=42, stratify=df['Encoded_Emotion'])\n",
    "\n",
    "# Transforming the DataFrame into a Dataset object from Hugging Face\n",
    "train_df = Dataset.from_pandas(train_df)\n",
    "val_df = Dataset.from_pandas(val_df)\n",
    "\n",
    "# Define tokenization function\n",
    "def tokenizer_function(examples):\n",
    "    return tokenizer(\n",
    "        examples[\"Translation\"],\n",
    "        truncation=True,\n",
    "        padding='max_length',\n",
    "        max_length=128\n",
    "    )\n",
    "\n",
    "# Tokenize dataset\n",
    "train_tokenized_df = train_df.map(tokenizer_function, batched=True)\n",
    "val_tokenized_df = val_df.map(tokenizer_function, batched=True)\n",
    "\n",
    "# Convert dataset to TensorFlow format\n",
    "def convert_to_tf_dataset(dataset):\n",
    "    input_ids = np.array(dataset[\"input_ids\"], dtype=np.int32)\n",
    "    attention_mask = np.array(dataset[\"attention_mask\"], dtype=np.int32)\n",
    "    labels = to_categorical(np.array(dataset[\"Encoded_Emotion\"], dtype=np.int32), num_classes=7)\n",
    "\n",
    "    features = {\n",
    "        \"input_ids\": tf.convert_to_tensor(input_ids),\n",
    "        \"attention_mask\": tf.convert_to_tensor(attention_mask),\n",
    "    }\n",
    "    labels = tf.convert_to_tensor(labels, dtype=tf.float32)\n",
    "\n",
    "    return tf.data.Dataset.from_tensor_slices((features, labels)).batch(16).prefetch(tf.data.experimental.AUTOTUNE)\n",
    "\n",
    "# I need to convert the dataset to TensorFlow format for training\n",
    "train_dataset = convert_to_tf_dataset(train_tokenized_df)\n",
    "val_dataset = convert_to_tf_dataset(val_tokenized_df)\n",
    "\n",
    "# Define the optimizer and learning rate schedule\n",
    "num_train_steps = len(train_dataset) * 10  # epochs\n",
    "optimizer, lr_schedule = create_optimizer(\n",
    "    init_lr=1e-5,\n",
    "    num_train_steps=num_train_steps,\n",
    "    weight_decay_rate=0.05,\n",
    "    num_warmup_steps=num_train_steps * 0.1,  # 10% warmup\n",
    ")\n",
    "\n",
    "# Compile the model with the optimizer and loss function\n",
    "model.compile(\n",
    "    optimizer=optimizer,\n",
    "    loss=tf.keras.losses.CategoricalCrossentropy(from_logits=True),\n",
    "    metrics=['accuracy']\n",
    ")"
   ]
  },
  {
   "cell_type": "code",
   "execution_count": null,
   "metadata": {},
   "outputs": [
    {
     "name": "stdout",
     "output_type": "stream",
     "text": [
      "Epoch 1/3\n",
      "12633/12633 [==============================] - 445s 35ms/step - loss: 0.5834 - accuracy: 0.7900 - val_loss: 0.2181 - val_accuracy: 0.9071\n",
      "Epoch 2/3\n",
      "12633/12633 [==============================] - 441s 35ms/step - loss: 0.2262 - accuracy: 0.9075 - val_loss: 0.1949 - val_accuracy: 0.9125\n",
      "Epoch 3/3\n",
      "12633/12633 [==============================] - 444s 35ms/step - loss: 0.1972 - accuracy: 0.9156 - val_loss: 0.1970 - val_accuracy: 0.9108\n"
     ]
    }
   ],
   "source": [
    "# Train the model\n",
    "history = model.fit(\n",
    "    train_dataset,\n",
    "    validation_data=val_dataset,\n",
    "    epochs=3,\n",
    "    class_weight=class_weights\n",
    ")"
   ]
  },
  {
   "cell_type": "code",
   "execution_count": null,
   "metadata": {},
   "outputs": [
    {
     "name": "stdout",
     "output_type": "stream",
     "text": [
      "0\n"
     ]
    },
    {
     "data": {
      "text/plain": [
       "main_emotion\n",
       "neutral      328\n",
       "surprise     318\n",
       "happiness    182\n",
       "fear          54\n",
       "anger         34\n",
       "sadness       24\n",
       "disgust        1\n",
       "Name: count, dtype: int64"
      ]
     },
     "execution_count": 49,
     "metadata": {},
     "output_type": "execute_result"
    }
   ],
   "source": [
    "### TESTING THE MODEL ###\n",
    "# Same steps for preprocessing the test set\n",
    "# Loading the test set\n",
    "test_set = pd.read_csv('../datasets/group 11_url1.csv')\n",
    "\n",
    "test_set = test_set[['Translation', 'Emotion']]\n",
    "\n",
    "test_set = test_set.dropna(subset=['Emotion'])\n",
    "print(test_set['Emotion'].isnull().sum())\n",
    "\n",
    "# Mapping the emotions to the main emotions\n",
    "# This mapping is based on the diagram from the GitHub Pages\n",
    "emotion_mapping = {\n",
    "    'neutral': 'neutral',\n",
    "    'disgust': 'disgust',\n",
    "    'surprise': 'surprise',\n",
    "    'curiosity': 'surprise',\n",
    "    'excitement': 'happiness',\n",
    "    'fear': 'fear',\n",
    "    'optimism': 'happiness',\n",
    "    'nervousness': 'fear',\n",
    "    'confusion': 'surprise',\n",
    "    'annoyance': 'anger',\n",
    "    'caring': 'happiness',\n",
    "    'disapproval': 'anger',\n",
    "    'approval': 'happiness',\n",
    "    'disappointment': 'sadness',\n",
    "    'admiration': 'happiness',\n",
    "    'desire': 'happiness',\n",
    "    'amusement': 'happiness',\n",
    "    'sadness': 'sadness',\n",
    "    'pride': 'happiness',\n",
    "    'gratitude': 'happiness',\n",
    "    'realization': 'happiness',\n",
    "    'relief': 'happiness',\n",
    "    'remorse': 'sadness',\n",
    "    'joy': 'happiness',\n",
    "    'love': 'happiness',\n",
    "    'anger': 'anger',\n",
    "}\n",
    "\n",
    "test_set['main_emotion'] = test_set['Emotion'].apply(lambda x: emotion_mapping.get(x, 'Other'))\n",
    "\n",
    "test_set = test_set[['main_emotion', 'Translation']]\n",
    "\n",
    "test_set['main_emotion'].value_counts()"
   ]
  },
  {
   "cell_type": "code",
   "execution_count": null,
   "metadata": {},
   "outputs": [
    {
     "name": "stdout",
     "output_type": "stream",
     "text": [
      "30/30 [==============================] - 1s 16ms/step\n",
      "Accuracy: 0.3486\n",
      "Precision: 0.6726\n",
      "Recall: 0.3486\n",
      "F1 Score: 0.2038\n",
      "\n",
      "Classification Report:\n",
      "              precision    recall  f1-score   support\n",
      "\n",
      "       anger       0.16      0.21      0.18        34\n",
      "     disgust       0.00      0.00      0.00         1\n",
      "        fear       0.13      0.09      0.11        54\n",
      "   happiness       1.00      0.01      0.01       182\n",
      "     neutral       0.37      0.95      0.53       328\n",
      "     sadness       0.00      0.00      0.00        24\n",
      "    surprise       1.00      0.01      0.01       318\n",
      "\n",
      "    accuracy                           0.35       941\n",
      "   macro avg       0.38      0.18      0.12       941\n",
      "weighted avg       0.67      0.35      0.20       941\n",
      "\n"
     ]
    },
    {
     "name": "stderr",
     "output_type": "stream",
     "text": [
      "/usr/local/lib/python3.11/dist-packages/sklearn/metrics/_classification.py:1565: UndefinedMetricWarning: Precision is ill-defined and being set to 0.0 in labels with no predicted samples. Use `zero_division` parameter to control this behavior.\n",
      "  _warn_prf(average, modifier, f\"{metric.capitalize()} is\", len(result))\n",
      "/usr/local/lib/python3.11/dist-packages/sklearn/metrics/_classification.py:1565: UndefinedMetricWarning: Precision is ill-defined and being set to 0.0 in labels with no predicted samples. Use `zero_division` parameter to control this behavior.\n",
      "  _warn_prf(average, modifier, f\"{metric.capitalize()} is\", len(result))\n",
      "/usr/local/lib/python3.11/dist-packages/sklearn/metrics/_classification.py:1565: UndefinedMetricWarning: Precision is ill-defined and being set to 0.0 in labels with no predicted samples. Use `zero_division` parameter to control this behavior.\n",
      "  _warn_prf(average, modifier, f\"{metric.capitalize()} is\", len(result))\n",
      "/usr/local/lib/python3.11/dist-packages/sklearn/metrics/_classification.py:1565: UndefinedMetricWarning: Precision is ill-defined and being set to 0.0 in labels with no predicted samples. Use `zero_division` parameter to control this behavior.\n",
      "  _warn_prf(average, modifier, f\"{metric.capitalize()} is\", len(result))\n"
     ]
    }
   ],
   "source": [
    "# Splitting the test set into features and labels\n",
    "X_test = test_set['Translation'].tolist()\n",
    "\n",
    "# Tokenize X_test\n",
    "X_test_tokenized = tokenizer(X_test,\n",
    "                             truncation=True,\n",
    "                             padding='max_length',\n",
    "                             max_length=128,\n",
    "                             return_tensors='tf')\n",
    "\n",
    "# Prepare y_test (the ground truth labels)\n",
    "y_test = test_set['main_emotion']\n",
    "label_encoder = LabelEncoder()\n",
    "y_test = label_encoder.fit_transform(y_test)  # Transform labels into numeric format\n",
    "\n",
    "# Make predictions (logits are returned here)\n",
    "y_pred = model.predict(X_test_tokenized)\n",
    "\n",
    "# Extract logits from the model's output\n",
    "logits = y_pred.logits\n",
    "\n",
    "# Convert logits to predicted class labels (by selecting the class with the highest logit)\n",
    "y_pred_classes = np.argmax(logits, axis=-1)\n",
    "\n",
    "# Calculate evaluation metrics\n",
    "accuracy = accuracy_score(y_test, y_pred_classes)\n",
    "precision = precision_score(y_test, y_pred_classes, average='weighted')\n",
    "recall = recall_score(y_test, y_pred_classes, average='weighted')\n",
    "f1 = f1_score(y_test, y_pred_classes, average='weighted')\n",
    "\n",
    "# Output the metrics\n",
    "print(f\"Accuracy: {accuracy:.4f}\")\n",
    "print(f\"Precision: {precision:.4f}\")\n",
    "print(f\"Recall: {recall:.4f}\")\n",
    "print(f\"F1 Score: {f1:.4f}\")\n",
    "\n",
    "# Classification Report\n",
    "report = classification_report(y_test, y_pred_classes, target_names=label_encoder.classes_)\n",
    "print(\"\\nClassification Report:\")\n",
    "print(report)"
   ]
  },
  {
   "cell_type": "code",
   "execution_count": null,
   "metadata": {},
   "outputs": [],
   "source": [
    "# Saving the model\n",
    "model.save_pretrained('./dbert')"
   ]
  }
 ],
 "metadata": {
  "kernelspec": {
   "display_name": "Python 3 (ipykernel)",
   "language": "python",
   "name": "python3"
  },
  "language_info": {
   "codemirror_mode": {
    "name": "ipython",
    "version": 3
   },
   "file_extension": ".py",
   "mimetype": "text/x-python",
   "name": "python",
   "nbconvert_exporter": "python",
   "pygments_lexer": "ipython3",
   "version": "3.11.0rc1"
  }
 },
 "nbformat": 4,
 "nbformat_minor": 4
}
