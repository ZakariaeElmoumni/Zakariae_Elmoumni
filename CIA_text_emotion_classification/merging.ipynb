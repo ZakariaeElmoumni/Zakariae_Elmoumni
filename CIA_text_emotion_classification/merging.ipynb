{
 "cells": [
  {
   "cell_type": "markdown",
   "metadata": {},
   "source": [
    "    This code is meant to merge datasets for training/testing the models. This code is supplementary for the development of the project."
   ]
  },
  {
   "cell_type": "code",
   "execution_count": null,
   "metadata": {},
   "outputs": [],
   "source": [
    "# Import necessary libraries\n",
    "import pandas as pd\n",
    "import glob"
   ]
  },
  {
   "cell_type": "code",
   "execution_count": null,
   "metadata": {},
   "outputs": [
    {
     "name": "stdout",
     "output_type": "stream",
     "text": [
      "     Start Time      End Time  \\\n",
      "0  00:26:44,000  00:26:46,000   \n",
      "1  00:26:46,000  00:26:49,000   \n",
      "2  00:26:49,000  00:26:51,000   \n",
      "3  00:26:51,000  00:26:54,000   \n",
      "4  00:26:54,000  00:26:57,000   \n",
      "\n",
      "                                            Sentence  \\\n",
      "0                  Niet bellen? Nee, niemand bellen.   \n",
      "1  En als ik wel gebeld word, mag ik toch wel opn...   \n",
      "2                                     Nee. Ook niet.   \n",
      "3  Oh, hij had zijn telefoon in de winkel moeten ...   \n",
      "4                                Doet elkaar anders.   \n",
      "\n",
      "                                  Corrected Sentence  \\\n",
      "0                  Niet bellen? Nee, niemand bellen.   \n",
      "1  En als ik wel gebeld word, mag ik toch wel opn...   \n",
      "2                                     Nee. Ook niet.   \n",
      "3  Oh, hij had zijn telefoon in de winkel moeten ...   \n",
      "4                                Doet elkaar anders.   \n",
      "\n",
      "                                         Translation  Emotion  \n",
      "0                Do not call? No, don't call anyone.  neutral  \n",
      "1  And if I do receive a call, am I allowed to an...  neutral  \n",
      "2                                      No. Also not.  neutral  \n",
      "3  Oh, he should have left his phone in the store...  neutral  \n",
      "4                         Do each other differently.  neutral  \n"
     ]
    }
   ],
   "source": [
    "# Simple code for combining 2 excel files into one\n",
    "file_list = [r\"C:\\Users\\zakar\\Desktop\\School\\Y2\\BLOCK C\\Task 4\\sentences_226324.xlsx\",r\"C:\\Users\\zakar\\Desktop\\School\\Y2\\BLOCK C\\Task 4\\sentences_234803.xlsx\", r\"C:\\Users\\zakar\\Desktop\\School\\Y2\\BLOCK C\\Task 4\\sentences_235738.xlsx\"]  \n",
    "\n",
    "# concatenating all files\n",
    "df_list = [pd.read_excel(file) for file in file_list]\n",
    "merged_df = pd.concat(df_list, ignore_index=True)\n",
    "\n",
    "# Saving to a new Excel file\n",
    "merged_df.to_excel(\"tv_shows.xlsx\", index=False)\n",
    "\n",
    "# Displaying the first few rows\n",
    "print(merged_df.head())\n"
   ]
  }
 ],
 "metadata": {
  "kernelspec": {
   "display_name": "block_c",
   "language": "python",
   "name": "python3"
  },
  "language_info": {
   "codemirror_mode": {
    "name": "ipython",
    "version": 3
   },
   "file_extension": ".py",
   "mimetype": "text/x-python",
   "name": "python",
   "nbconvert_exporter": "python",
   "pygments_lexer": "ipython3",
   "version": "3.10.16"
  }
 },
 "nbformat": 4,
 "nbformat_minor": 2
}
